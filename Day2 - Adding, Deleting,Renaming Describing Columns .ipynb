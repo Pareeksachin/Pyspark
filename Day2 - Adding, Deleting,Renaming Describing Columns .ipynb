{
 "cells": [
  {
   "cell_type": "markdown",
   "id": "89392eab",
   "metadata": {},
   "source": [
    "Topics:\n",
    "#Adding Columns\n",
    "#Dropping Columns"
   ]
  },
  {
   "cell_type": "code",
   "execution_count": 3,
   "id": "173523db",
   "metadata": {},
   "outputs": [
    {
     "data": {
      "text/plain": [
       "DataFrame[_c0: string, _c1: string, _c2: string, _c3: string, _c4: string, _c5: string, _c6: string]"
      ]
     },
     "execution_count": 3,
     "metadata": {},
     "output_type": "execute_result"
    }
   ],
   "source": [
    "import pyspark\n",
    "from pyspark.sql import SparkSession\n",
    "spark = SparkSession.builder.appName('Practice').getOrCreate()\n",
    "spark\n",
    "import pandas as pd\n",
    "pd.read_csv(\"DummyData.csv\")\n",
    "df_pyspark = spark.read.csv(\"DummyData.csv\")\n",
    "df_pyspark"
   ]
  },
  {
   "cell_type": "code",
   "execution_count": 5,
   "id": "b600c734",
   "metadata": {},
   "outputs": [
    {
     "name": "stdout",
     "output_type": "stream",
     "text": [
      "+---------+----------+-------+-------------+------------+--------------+-------------+\n",
      "|      _c0|       _c1|    _c2|          _c3|         _c4|           _c5|          _c6|\n",
      "+---------+----------+-------+-------------+------------+--------------+-------------+\n",
      "|ID Number|      Date|Product|       Region|Sales Method|Price per unit|Cost per unit|\n",
      "|    10010|01-01-2022| iphone|         EMEA|    In-store|         1,099|          289|\n",
      "|    10011|01-01-2022| iphone|North America| Third Party|         1,099|          289|\n",
      "|    10012|01-01-2022|macbook|         APAC|Online Store|         1,299|          459|\n",
      "|    10013|01-01-2022|   ipad|South America|    Referral|           599|          299|\n",
      "|    10014|01-01-2022| iwatch|South America|Online Store|           449|          159|\n",
      "|    10015|01-01-2022| airpod|South America|Online Store|           199|           39|\n",
      "|    10016|04-01-2022| airpod|South America|    In-store|           199|           39|\n",
      "|    10017|07-01-2022| airpod|         EMEA|Online Store|           199|           39|\n",
      "|    10018|10-01-2022| iphone|North America|Online Store|          1099|          289|\n",
      "|    10019|13-01-2022|macbook|         APAC|    In-store|         1,299|          459|\n",
      "|    10020|16-01-2022|macbook|         APAC|    In-store|         1,299|          459|\n",
      "|    10021|19-01-2022| airpod|         APAC|    In-store|           199|           39|\n",
      "|    10022|22-01-2022| iphone|         EMEA|    In-store|          1099|          289|\n",
      "|    10023|25-01-2022| iwatch|North America|    In-store|           449|          159|\n",
      "|    10024|04-02-2022|   ipad|         APAC|    In-store|           599|          299|\n",
      "|    10025|05-02-2022| iwatch|         APAC|    Referral|           449|          159|\n",
      "|    10026|06-02-2022| iphone|         APAC|    Referral|          1099|          289|\n",
      "|    10027|07-02-2022| iwatch|         EMEA| Third Party|           449|          159|\n",
      "|    10028|08-02-2022| iphone|         APAC|    Referral|          1099|          289|\n",
      "+---------+----------+-------+-------------+------------+--------------+-------------+\n",
      "only showing top 20 rows\n",
      "\n"
     ]
    }
   ],
   "source": [
    "df_pyspark.show()"
   ]
  },
  {
   "cell_type": "code",
   "execution_count": 6,
   "id": "40dd1907",
   "metadata": {},
   "outputs": [
    {
     "data": {
      "text/plain": [
       "DataFrame[ID Number: int, Date: string, Product: string, Region: string, Sales Method: string, Price per unit: string, Cost per unit: int]"
      ]
     },
     "execution_count": 6,
     "metadata": {},
     "output_type": "execute_result"
    }
   ],
   "source": [
    "# by default it is showing String as a type of every column\n",
    "# we need to give one option inferSchema = True\n",
    "df_pyspark = spark.read.option('header','true').csv(\"DummyData.csv\",inferSchema = True)\n",
    "df_pyspark"
   ]
  },
  {
   "cell_type": "code",
   "execution_count": 7,
   "id": "f7cd84db",
   "metadata": {},
   "outputs": [
    {
     "name": "stdout",
     "output_type": "stream",
     "text": [
      "+---------+----------+-------+-------------+------------+--------------+-------------+\n",
      "|ID Number|      Date|Product|       Region|Sales Method|Price per unit|Cost per unit|\n",
      "+---------+----------+-------+-------------+------------+--------------+-------------+\n",
      "|    10010|01-01-2022| iphone|         EMEA|    In-store|         1,099|          289|\n",
      "|    10011|01-01-2022| iphone|North America| Third Party|         1,099|          289|\n",
      "|    10012|01-01-2022|macbook|         APAC|Online Store|         1,299|          459|\n",
      "|    10013|01-01-2022|   ipad|South America|    Referral|           599|          299|\n",
      "|    10014|01-01-2022| iwatch|South America|Online Store|           449|          159|\n",
      "|    10015|01-01-2022| airpod|South America|Online Store|           199|           39|\n",
      "|    10016|04-01-2022| airpod|South America|    In-store|           199|           39|\n",
      "|    10017|07-01-2022| airpod|         EMEA|Online Store|           199|           39|\n",
      "|    10018|10-01-2022| iphone|North America|Online Store|          1099|          289|\n",
      "|    10019|13-01-2022|macbook|         APAC|    In-store|         1,299|          459|\n",
      "|    10020|16-01-2022|macbook|         APAC|    In-store|         1,299|          459|\n",
      "|    10021|19-01-2022| airpod|         APAC|    In-store|           199|           39|\n",
      "|    10022|22-01-2022| iphone|         EMEA|    In-store|          1099|          289|\n",
      "|    10023|25-01-2022| iwatch|North America|    In-store|           449|          159|\n",
      "|    10024|04-02-2022|   ipad|         APAC|    In-store|           599|          299|\n",
      "|    10025|05-02-2022| iwatch|         APAC|    Referral|           449|          159|\n",
      "|    10026|06-02-2022| iphone|         APAC|    Referral|          1099|          289|\n",
      "|    10027|07-02-2022| iwatch|         EMEA| Third Party|           449|          159|\n",
      "|    10028|08-02-2022| iphone|         APAC|    Referral|          1099|          289|\n",
      "|    10029|08-02-2022|macbook|         APAC|    Referral|         1,299|          459|\n",
      "+---------+----------+-------+-------------+------------+--------------+-------------+\n",
      "only showing top 20 rows\n",
      "\n"
     ]
    }
   ],
   "source": [
    "df_pyspark = spark.read.csv(\"DummyData.csv\",header = True,inferSchema=True)\n",
    "df_pyspark.show()\n"
   ]
  },
  {
   "cell_type": "code",
   "execution_count": 8,
   "id": "6a8526d1",
   "metadata": {},
   "outputs": [
    {
     "data": {
      "text/plain": [
       "['ID Number',\n",
       " 'Date',\n",
       " 'Product',\n",
       " 'Region',\n",
       " 'Sales Method',\n",
       " 'Price per unit',\n",
       " 'Cost per unit']"
      ]
     },
     "execution_count": 8,
     "metadata": {},
     "output_type": "execute_result"
    }
   ],
   "source": [
    "# get columns names\n",
    "\n",
    "df_pyspark.columns"
   ]
  },
  {
   "cell_type": "code",
   "execution_count": 9,
   "id": "50741aa1",
   "metadata": {},
   "outputs": [
    {
     "data": {
      "text/plain": [
       "[Row(ID Number=10010, Date='01-01-2022', Product='iphone', Region='EMEA', Sales Method='In-store', Price per unit='1,099', Cost per unit=289),\n",
       " Row(ID Number=10011, Date='01-01-2022', Product='iphone', Region='North America', Sales Method='Third Party', Price per unit='1,099', Cost per unit=289),\n",
       " Row(ID Number=10012, Date='01-01-2022', Product='macbook', Region='APAC', Sales Method='Online Store', Price per unit='1,299', Cost per unit=459),\n",
       " Row(ID Number=10013, Date='01-01-2022', Product='ipad', Region='South America', Sales Method='Referral', Price per unit='599', Cost per unit=299),\n",
       " Row(ID Number=10014, Date='01-01-2022', Product='iwatch', Region='South America', Sales Method='Online Store', Price per unit='449', Cost per unit=159)]"
      ]
     },
     "execution_count": 9,
     "metadata": {},
     "output_type": "execute_result"
    }
   ],
   "source": [
    "df_pyspark.head(5)"
   ]
  },
  {
   "cell_type": "code",
   "execution_count": 10,
   "id": "b421b0e7",
   "metadata": {},
   "outputs": [
    {
     "data": {
      "text/plain": [
       "DataFrame[Product: string]"
      ]
     },
     "execution_count": 10,
     "metadata": {},
     "output_type": "execute_result"
    }
   ],
   "source": [
    "# if we want only single column\n",
    "df_pyspark.select(\"Product\")"
   ]
  },
  {
   "cell_type": "code",
   "execution_count": 11,
   "id": "28d708c6",
   "metadata": {},
   "outputs": [
    {
     "name": "stdout",
     "output_type": "stream",
     "text": [
      "+-------+\n",
      "|Product|\n",
      "+-------+\n",
      "| iphone|\n",
      "| iphone|\n",
      "|macbook|\n",
      "|   ipad|\n",
      "| iwatch|\n",
      "| airpod|\n",
      "| airpod|\n",
      "| airpod|\n",
      "| iphone|\n",
      "|macbook|\n",
      "|macbook|\n",
      "| airpod|\n",
      "| iphone|\n",
      "| iwatch|\n",
      "|   ipad|\n",
      "| iwatch|\n",
      "| iphone|\n",
      "| iwatch|\n",
      "| iphone|\n",
      "|macbook|\n",
      "+-------+\n",
      "only showing top 20 rows\n",
      "\n"
     ]
    }
   ],
   "source": [
    "df_pyspark.select(\"Product\").show()"
   ]
  },
  {
   "cell_type": "code",
   "execution_count": 12,
   "id": "1bf783b7",
   "metadata": {},
   "outputs": [
    {
     "name": "stdout",
     "output_type": "stream",
     "text": [
      "+---------+-------+\n",
      "|ID NuMber|Product|\n",
      "+---------+-------+\n",
      "|    10010| iphone|\n",
      "|    10011| iphone|\n",
      "|    10012|macbook|\n",
      "|    10013|   ipad|\n",
      "|    10014| iwatch|\n",
      "|    10015| airpod|\n",
      "|    10016| airpod|\n",
      "|    10017| airpod|\n",
      "|    10018| iphone|\n",
      "|    10019|macbook|\n",
      "|    10020|macbook|\n",
      "|    10021| airpod|\n",
      "|    10022| iphone|\n",
      "|    10023| iwatch|\n",
      "|    10024|   ipad|\n",
      "|    10025| iwatch|\n",
      "|    10026| iphone|\n",
      "|    10027| iwatch|\n",
      "|    10028| iphone|\n",
      "|    10029|macbook|\n",
      "+---------+-------+\n",
      "only showing top 20 rows\n",
      "\n"
     ]
    }
   ],
   "source": [
    "#select multiple column \n",
    "df_pyspark.select([\"ID NuMber\",\"Product\"]).show()"
   ]
  },
  {
   "cell_type": "code",
   "execution_count": 13,
   "id": "db578db1",
   "metadata": {},
   "outputs": [
    {
     "data": {
      "text/plain": [
       "Column<'Product'>"
      ]
     },
     "execution_count": 13,
     "metadata": {},
     "output_type": "execute_result"
    }
   ],
   "source": [
    "# know feature of column\n",
    "\n",
    "df_pyspark['Product']"
   ]
  },
  {
   "cell_type": "code",
   "execution_count": 14,
   "id": "7888ee5a",
   "metadata": {},
   "outputs": [
    {
     "data": {
      "text/plain": [
       "[('ID Number', 'int'),\n",
       " ('Date', 'string'),\n",
       " ('Product', 'string'),\n",
       " ('Region', 'string'),\n",
       " ('Sales Method', 'string'),\n",
       " ('Price per unit', 'string'),\n",
       " ('Cost per unit', 'int')]"
      ]
     },
     "execution_count": 14,
     "metadata": {},
     "output_type": "execute_result"
    }
   ],
   "source": [
    "# know data types\n",
    "df_pyspark.dtypes"
   ]
  },
  {
   "cell_type": "code",
   "execution_count": 15,
   "id": "bac1c79d",
   "metadata": {},
   "outputs": [
    {
     "data": {
      "text/plain": [
       "DataFrame[summary: string, ID Number: string, Date: string, Product: string, Region: string, Sales Method: string, Price per unit: string, Cost per unit: string]"
      ]
     },
     "execution_count": 15,
     "metadata": {},
     "output_type": "execute_result"
    }
   ],
   "source": [
    "df_pyspark.describe()"
   ]
  },
  {
   "cell_type": "code",
   "execution_count": 16,
   "id": "c883c49d",
   "metadata": {},
   "outputs": [
    {
     "name": "stdout",
     "output_type": "stream",
     "text": [
      "+-------+------------------+----------+-------+-------------+------------+-----------------+------------------+\n",
      "|summary|         ID Number|      Date|Product|       Region|Sales Method|   Price per unit|     Cost per unit|\n",
      "+-------+------------------+----------+-------+-------------+------------+-----------------+------------------+\n",
      "|  count|                21|        21|     21|           21|          21|               21|                21|\n",
      "|   mean|           10020.0|      null|   null|         null|        null|            619.0|249.95238095238096|\n",
      "| stddev|6.2048368229954285|      null|   null|         null|        null|375.4996671103718|141.66526609951933|\n",
      "|    min|             10010|01-01-2022| airpod|         APAC|    In-store|            1,099|                39|\n",
      "|    max|             10030|25-01-2022|macbook|South America| Third Party|              599|               459|\n",
      "+-------+------------------+----------+-------+-------------+------------+-----------------+------------------+\n",
      "\n"
     ]
    }
   ],
   "source": [
    "df_pyspark.describe().show() # similar as pandas"
   ]
  },
  {
   "cell_type": "code",
   "execution_count": 17,
   "id": "47994bea",
   "metadata": {},
   "outputs": [
    {
     "name": "stdout",
     "output_type": "stream",
     "text": [
      "+---------+----------+-------+-------------+------------+--------------+-------------+--------+\n",
      "|ID Number|      Date|Product|       Region|Sales Method|Price per unit|Cost per unit|New Cost|\n",
      "+---------+----------+-------+-------------+------------+--------------+-------------+--------+\n",
      "|    10010|01-01-2022| iphone|         EMEA|    In-store|         1,099|          289|     578|\n",
      "|    10011|01-01-2022| iphone|North America| Third Party|         1,099|          289|     578|\n",
      "|    10012|01-01-2022|macbook|         APAC|Online Store|         1,299|          459|     918|\n",
      "|    10013|01-01-2022|   ipad|South America|    Referral|           599|          299|     598|\n",
      "|    10014|01-01-2022| iwatch|South America|Online Store|           449|          159|     318|\n",
      "|    10015|01-01-2022| airpod|South America|Online Store|           199|           39|      78|\n",
      "|    10016|04-01-2022| airpod|South America|    In-store|           199|           39|      78|\n",
      "|    10017|07-01-2022| airpod|         EMEA|Online Store|           199|           39|      78|\n",
      "|    10018|10-01-2022| iphone|North America|Online Store|          1099|          289|     578|\n",
      "|    10019|13-01-2022|macbook|         APAC|    In-store|         1,299|          459|     918|\n",
      "|    10020|16-01-2022|macbook|         APAC|    In-store|         1,299|          459|     918|\n",
      "|    10021|19-01-2022| airpod|         APAC|    In-store|           199|           39|      78|\n",
      "|    10022|22-01-2022| iphone|         EMEA|    In-store|          1099|          289|     578|\n",
      "|    10023|25-01-2022| iwatch|North America|    In-store|           449|          159|     318|\n",
      "|    10024|04-02-2022|   ipad|         APAC|    In-store|           599|          299|     598|\n",
      "|    10025|05-02-2022| iwatch|         APAC|    Referral|           449|          159|     318|\n",
      "|    10026|06-02-2022| iphone|         APAC|    Referral|          1099|          289|     578|\n",
      "|    10027|07-02-2022| iwatch|         EMEA| Third Party|           449|          159|     318|\n",
      "|    10028|08-02-2022| iphone|         APAC|    Referral|          1099|          289|     578|\n",
      "|    10029|08-02-2022|macbook|         APAC|    Referral|         1,299|          459|     918|\n",
      "+---------+----------+-------+-------------+------------+--------------+-------------+--------+\n",
      "only showing top 20 rows\n",
      "\n"
     ]
    }
   ],
   "source": [
    "# adding columns and deleting columns\n",
    "df_pyspark.withColumn(\"New Cost\",df_pyspark[\"Cost Per unit\"]*2).show()"
   ]
  },
  {
   "cell_type": "code",
   "execution_count": 18,
   "id": "5f1c4b62",
   "metadata": {},
   "outputs": [
    {
     "name": "stdout",
     "output_type": "stream",
     "text": [
      "+---------+----------+-------+-------------+------------+--------------+-------------+\n",
      "|ID Number|      Date|Product|       Region|Sales Method|Price per unit|Cost per unit|\n",
      "+---------+----------+-------+-------------+------------+--------------+-------------+\n",
      "|    10010|01-01-2022| iphone|         EMEA|    In-store|         1,099|          289|\n",
      "|    10011|01-01-2022| iphone|North America| Third Party|         1,099|          289|\n",
      "|    10012|01-01-2022|macbook|         APAC|Online Store|         1,299|          459|\n",
      "|    10013|01-01-2022|   ipad|South America|    Referral|           599|          299|\n",
      "|    10014|01-01-2022| iwatch|South America|Online Store|           449|          159|\n",
      "|    10015|01-01-2022| airpod|South America|Online Store|           199|           39|\n",
      "|    10016|04-01-2022| airpod|South America|    In-store|           199|           39|\n",
      "|    10017|07-01-2022| airpod|         EMEA|Online Store|           199|           39|\n",
      "|    10018|10-01-2022| iphone|North America|Online Store|          1099|          289|\n",
      "|    10019|13-01-2022|macbook|         APAC|    In-store|         1,299|          459|\n",
      "|    10020|16-01-2022|macbook|         APAC|    In-store|         1,299|          459|\n",
      "|    10021|19-01-2022| airpod|         APAC|    In-store|           199|           39|\n",
      "|    10022|22-01-2022| iphone|         EMEA|    In-store|          1099|          289|\n",
      "|    10023|25-01-2022| iwatch|North America|    In-store|           449|          159|\n",
      "|    10024|04-02-2022|   ipad|         APAC|    In-store|           599|          299|\n",
      "|    10025|05-02-2022| iwatch|         APAC|    Referral|           449|          159|\n",
      "|    10026|06-02-2022| iphone|         APAC|    Referral|          1099|          289|\n",
      "|    10027|07-02-2022| iwatch|         EMEA| Third Party|           449|          159|\n",
      "|    10028|08-02-2022| iphone|         APAC|    Referral|          1099|          289|\n",
      "|    10029|08-02-2022|macbook|         APAC|    Referral|         1,299|          459|\n",
      "+---------+----------+-------+-------------+------------+--------------+-------------+\n",
      "only showing top 20 rows\n",
      "\n"
     ]
    }
   ],
   "source": [
    "#deleting the columns\n",
    "df_pyspark.drop(\"New Cost\").show()"
   ]
  },
  {
   "cell_type": "code",
   "execution_count": 19,
   "id": "845b7fa0",
   "metadata": {},
   "outputs": [
    {
     "name": "stdout",
     "output_type": "stream",
     "text": [
      "+---------+----------+-------+-------------+------------+--------------+----------+\n",
      "|ID Number|      Date|Product|       Region|Sales Method|Price per unit|Cost /Unit|\n",
      "+---------+----------+-------+-------------+------------+--------------+----------+\n",
      "|    10010|01-01-2022| iphone|         EMEA|    In-store|         1,099|       289|\n",
      "|    10011|01-01-2022| iphone|North America| Third Party|         1,099|       289|\n",
      "|    10012|01-01-2022|macbook|         APAC|Online Store|         1,299|       459|\n",
      "|    10013|01-01-2022|   ipad|South America|    Referral|           599|       299|\n",
      "|    10014|01-01-2022| iwatch|South America|Online Store|           449|       159|\n",
      "|    10015|01-01-2022| airpod|South America|Online Store|           199|        39|\n",
      "|    10016|04-01-2022| airpod|South America|    In-store|           199|        39|\n",
      "|    10017|07-01-2022| airpod|         EMEA|Online Store|           199|        39|\n",
      "|    10018|10-01-2022| iphone|North America|Online Store|          1099|       289|\n",
      "|    10019|13-01-2022|macbook|         APAC|    In-store|         1,299|       459|\n",
      "|    10020|16-01-2022|macbook|         APAC|    In-store|         1,299|       459|\n",
      "|    10021|19-01-2022| airpod|         APAC|    In-store|           199|        39|\n",
      "|    10022|22-01-2022| iphone|         EMEA|    In-store|          1099|       289|\n",
      "|    10023|25-01-2022| iwatch|North America|    In-store|           449|       159|\n",
      "|    10024|04-02-2022|   ipad|         APAC|    In-store|           599|       299|\n",
      "|    10025|05-02-2022| iwatch|         APAC|    Referral|           449|       159|\n",
      "|    10026|06-02-2022| iphone|         APAC|    Referral|          1099|       289|\n",
      "|    10027|07-02-2022| iwatch|         EMEA| Third Party|           449|       159|\n",
      "|    10028|08-02-2022| iphone|         APAC|    Referral|          1099|       289|\n",
      "|    10029|08-02-2022|macbook|         APAC|    Referral|         1,299|       459|\n",
      "+---------+----------+-------+-------------+------------+--------------+----------+\n",
      "only showing top 20 rows\n",
      "\n"
     ]
    }
   ],
   "source": [
    "# rename columns \n",
    "df_pyspark.withColumnRenamed(\"Cost Per Unit\",\"Cost /Unit\").show()"
   ]
  },
  {
   "cell_type": "markdown",
   "id": "f0074912",
   "metadata": {},
   "source": [
    "# Pyspark Droping values "
   ]
  },
  {
   "cell_type": "code",
   "execution_count": 20,
   "id": "1beb3874",
   "metadata": {},
   "outputs": [],
   "source": [
    "# Dropping columns \n",
    "# Dropping rows\n",
    "# various parameter in Dropping functionalities"
   ]
  },
  {
   "cell_type": "code",
   "execution_count": 21,
   "id": "22626409",
   "metadata": {},
   "outputs": [
    {
     "name": "stdout",
     "output_type": "stream",
     "text": [
      "+---------+----------+-------+-------------+------------+--------------+-------------+\n",
      "|ID Number|      Date|Product|       Region|Sales Method|Price per unit|Cost per unit|\n",
      "+---------+----------+-------+-------------+------------+--------------+-------------+\n",
      "|    10010|01-01-2022| iphone|         EMEA|    In-store|         1,099|          289|\n",
      "|    10011|01-01-2022| iphone|North America| Third Party|         1,099|          289|\n",
      "|    10012|01-01-2022|macbook|         APAC|Online Store|         1,299|          459|\n",
      "|    10013|01-01-2022|   ipad|South America|    Referral|           599|          299|\n",
      "|    10014|01-01-2022| iwatch|South America|Online Store|           449|          159|\n",
      "|    10015|01-01-2022| airpod|South America|Online Store|           199|         null|\n",
      "|    10016|04-01-2022| airpod|South America|    In-store|           199|           39|\n",
      "|    10017|07-01-2022| airpod|         EMEA|Online Store|           199|           39|\n",
      "|    10018|10-01-2022| iphone|North America|Online Store|          null|          289|\n",
      "|    10019|13-01-2022|macbook|         APAC|    In-store|         1,299|          459|\n",
      "|    10020|16-01-2022|macbook|         APAC|    In-store|         1,299|          459|\n",
      "|    10021|19-01-2022| airpod|         APAC|    In-store|           199|           39|\n",
      "|    10022|22-01-2022| iphone|         EMEA|    In-store|          null|          289|\n",
      "|    10023|25-01-2022| iwatch|North America|    In-store|           449|          159|\n",
      "|    10024|04-02-2022|   ipad|         APAC|    In-store|           599|          299|\n",
      "|    10025|05-02-2022| iwatch|         APAC|    Referral|           449|          159|\n",
      "|    10026|06-02-2022| iphone|         APAC|    Referral|          1099|         null|\n",
      "|    10027|07-02-2022| iwatch|         EMEA| Third Party|           449|          159|\n",
      "|    10028|08-02-2022| iphone|         APAC|    Referral|          1099|          289|\n",
      "|    10029|08-02-2022|macbook|         APAC|    Referral|          null|          459|\n",
      "+---------+----------+-------+-------------+------------+--------------+-------------+\n",
      "only showing top 20 rows\n",
      "\n"
     ]
    }
   ],
   "source": [
    "df_pyspark1 = spark.read.csv(\"DummyData12.csv\",header=True,inferSchema = True)\n",
    "df_pyspark1.show()\n"
   ]
  },
  {
   "cell_type": "code",
   "execution_count": 27,
   "id": "bfb45839",
   "metadata": {},
   "outputs": [
    {
     "data": {
      "text/plain": [
       "DataFrame[summary: string, ID Number: string, Date: string, Product: string, Region: string, Sales Method: string, Price per unit: string, Cost per unit: string]"
      ]
     },
     "execution_count": 27,
     "metadata": {},
     "output_type": "execute_result"
    }
   ],
   "source": [
    "df_pyspark.describe()"
   ]
  },
  {
   "cell_type": "code",
   "execution_count": 28,
   "id": "35f5922d",
   "metadata": {},
   "outputs": [
    {
     "name": "stdout",
     "output_type": "stream",
     "text": [
      "+---------+----------+-------+-------------+--------------+-------------+\n",
      "|ID Number|      Date|Product|       Region|Price per unit|Cost per unit|\n",
      "+---------+----------+-------+-------------+--------------+-------------+\n",
      "|    10010|01-01-2022| iphone|         EMEA|         1,099|          289|\n",
      "|    10011|01-01-2022| iphone|North America|         1,099|          289|\n",
      "|    10012|01-01-2022|macbook|         APAC|         1,299|          459|\n",
      "|    10013|01-01-2022|   ipad|South America|           599|          299|\n",
      "|    10014|01-01-2022| iwatch|South America|           449|          159|\n",
      "|    10015|01-01-2022| airpod|South America|           199|           39|\n",
      "|    10016|04-01-2022| airpod|South America|           199|           39|\n",
      "|    10017|07-01-2022| airpod|         EMEA|           199|           39|\n",
      "|    10018|10-01-2022| iphone|North America|          1099|          289|\n",
      "|    10019|13-01-2022|macbook|         APAC|         1,299|          459|\n",
      "|    10020|16-01-2022|macbook|         APAC|         1,299|          459|\n",
      "|    10021|19-01-2022| airpod|         APAC|           199|           39|\n",
      "|    10022|22-01-2022| iphone|         EMEA|          1099|          289|\n",
      "|    10023|25-01-2022| iwatch|North America|           449|          159|\n",
      "|    10024|04-02-2022|   ipad|         APAC|           599|          299|\n",
      "|    10025|05-02-2022| iwatch|         APAC|           449|          159|\n",
      "|    10026|06-02-2022| iphone|         APAC|          1099|          289|\n",
      "|    10027|07-02-2022| iwatch|         EMEA|           449|          159|\n",
      "|    10028|08-02-2022| iphone|         APAC|          1099|          289|\n",
      "|    10029|08-02-2022|macbook|         APAC|         1,299|          459|\n",
      "+---------+----------+-------+-------------+--------------+-------------+\n",
      "only showing top 20 rows\n",
      "\n"
     ]
    }
   ],
   "source": [
    "# drop columns \n",
    "df_pyspark.drop(\"Sales Method\").show()"
   ]
  },
  {
   "cell_type": "code",
   "execution_count": null,
   "id": "44912292",
   "metadata": {},
   "outputs": [],
   "source": []
  },
  {
   "cell_type": "code",
   "execution_count": null,
   "id": "6bd70747",
   "metadata": {},
   "outputs": [],
   "source": []
  },
  {
   "cell_type": "code",
   "execution_count": null,
   "id": "d90bd4d1",
   "metadata": {},
   "outputs": [],
   "source": []
  }
 ],
 "metadata": {
  "kernelspec": {
   "display_name": "Python 3 (ipykernel)",
   "language": "python",
   "name": "python3"
  },
  "language_info": {
   "codemirror_mode": {
    "name": "ipython",
    "version": 3
   },
   "file_extension": ".py",
   "mimetype": "text/x-python",
   "name": "python",
   "nbconvert_exporter": "python",
   "pygments_lexer": "ipython3",
   "version": "3.10.9"
  }
 },
 "nbformat": 4,
 "nbformat_minor": 5
}

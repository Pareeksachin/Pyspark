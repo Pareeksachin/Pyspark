{
 "cells": [
  {
   "cell_type": "code",
   "execution_count": 1,
   "metadata": {},
   "outputs": [
    {
     "name": "stdout",
     "output_type": "stream",
     "text": [
      "Requirement already satisfied: pyspark in c:\\users\\anonymous\\anaconda3\\lib\\site-packages (3.4.0)\n",
      "Requirement already satisfied: py4j==0.10.9.7 in c:\\users\\anonymous\\anaconda3\\lib\\site-packages (from pyspark) (0.10.9.7)\n",
      "Note: you may need to restart the kernel to use updated packages.\n"
     ]
    }
   ],
   "source": [
    "pip install pyspark"
   ]
  },
  {
   "cell_type": "code",
   "execution_count": 1,
   "metadata": {},
   "outputs": [],
   "source": [
    "import pyspark"
   ]
  },
  {
   "cell_type": "code",
   "execution_count": 2,
   "metadata": {},
   "outputs": [],
   "source": [
    "#create a spark variable \n",
    "#The SparkSession is the entry point for interacting with Spark functionalities, including reading and processing data,\n",
    "# ---------- executing SQL queries, and performing distributed computations.\n",
    "# imports the SparkSession class from the pyspark.sql module. SparkSession is the entry point for interacting with Spark SQL and DataFrame APIs\n",
    "from pyspark.sql import SparkSession\n",
    "spark = SparkSession.builder.appName('Practice').getOrCreate()"
   ]
  },
  {
   "cell_type": "code",
   "execution_count": 3,
   "metadata": {},
   "outputs": [
    {
     "data": {
      "text/html": [
       "\n",
       "            <div>\n",
       "                <p><b>SparkSession - in-memory</b></p>\n",
       "                \n",
       "        <div>\n",
       "            <p><b>SparkContext</b></p>\n",
       "\n",
       "            <p><a href=\"http://CompLX:4040\">Spark UI</a></p>\n",
       "\n",
       "            <dl>\n",
       "              <dt>Version</dt>\n",
       "                <dd><code>v3.4.0</code></dd>\n",
       "              <dt>Master</dt>\n",
       "                <dd><code>local[*]</code></dd>\n",
       "              <dt>AppName</dt>\n",
       "                <dd><code>Practice</code></dd>\n",
       "            </dl>\n",
       "        </div>\n",
       "        \n",
       "            </div>\n",
       "        "
      ],
      "text/plain": [
       "<pyspark.sql.session.SparkSession at 0x21b0cb87580>"
      ]
     },
     "execution_count": 3,
     "metadata": {},
     "output_type": "execute_result"
    }
   ],
   "source": [
    "spark #start spark session"
   ]
  },
  {
   "cell_type": "code",
   "execution_count": 4,
   "metadata": {},
   "outputs": [
    {
     "data": {
      "text/html": [
       "<div>\n",
       "<style scoped>\n",
       "    .dataframe tbody tr th:only-of-type {\n",
       "        vertical-align: middle;\n",
       "    }\n",
       "\n",
       "    .dataframe tbody tr th {\n",
       "        vertical-align: top;\n",
       "    }\n",
       "\n",
       "    .dataframe thead th {\n",
       "        text-align: right;\n",
       "    }\n",
       "</style>\n",
       "<table border=\"1\" class=\"dataframe\">\n",
       "  <thead>\n",
       "    <tr style=\"text-align: right;\">\n",
       "      <th></th>\n",
       "      <th>ID Number</th>\n",
       "      <th>Date</th>\n",
       "      <th>Product</th>\n",
       "      <th>Region</th>\n",
       "      <th>Sales Method</th>\n",
       "      <th>Price per unit</th>\n",
       "      <th>Cost per unit</th>\n",
       "    </tr>\n",
       "  </thead>\n",
       "  <tbody>\n",
       "    <tr>\n",
       "      <th>0</th>\n",
       "      <td>10010</td>\n",
       "      <td>01-01-2022</td>\n",
       "      <td>iphone</td>\n",
       "      <td>EMEA</td>\n",
       "      <td>In-store</td>\n",
       "      <td>1,099</td>\n",
       "      <td>289</td>\n",
       "    </tr>\n",
       "    <tr>\n",
       "      <th>1</th>\n",
       "      <td>10011</td>\n",
       "      <td>01-01-2022</td>\n",
       "      <td>iphone</td>\n",
       "      <td>North America</td>\n",
       "      <td>Third Party</td>\n",
       "      <td>1,099</td>\n",
       "      <td>289</td>\n",
       "    </tr>\n",
       "    <tr>\n",
       "      <th>2</th>\n",
       "      <td>10012</td>\n",
       "      <td>01-01-2022</td>\n",
       "      <td>macbook</td>\n",
       "      <td>APAC</td>\n",
       "      <td>Online Store</td>\n",
       "      <td>1,299</td>\n",
       "      <td>459</td>\n",
       "    </tr>\n",
       "    <tr>\n",
       "      <th>3</th>\n",
       "      <td>10013</td>\n",
       "      <td>01-01-2022</td>\n",
       "      <td>ipad</td>\n",
       "      <td>South America</td>\n",
       "      <td>Referral</td>\n",
       "      <td>599</td>\n",
       "      <td>299</td>\n",
       "    </tr>\n",
       "    <tr>\n",
       "      <th>4</th>\n",
       "      <td>10014</td>\n",
       "      <td>01-01-2022</td>\n",
       "      <td>iwatch</td>\n",
       "      <td>South America</td>\n",
       "      <td>Online Store</td>\n",
       "      <td>449</td>\n",
       "      <td>159</td>\n",
       "    </tr>\n",
       "    <tr>\n",
       "      <th>5</th>\n",
       "      <td>10015</td>\n",
       "      <td>01-01-2022</td>\n",
       "      <td>airpod</td>\n",
       "      <td>South America</td>\n",
       "      <td>Online Store</td>\n",
       "      <td>199</td>\n",
       "      <td>39</td>\n",
       "    </tr>\n",
       "    <tr>\n",
       "      <th>6</th>\n",
       "      <td>10016</td>\n",
       "      <td>04-01-2022</td>\n",
       "      <td>airpod</td>\n",
       "      <td>South America</td>\n",
       "      <td>In-store</td>\n",
       "      <td>199</td>\n",
       "      <td>39</td>\n",
       "    </tr>\n",
       "    <tr>\n",
       "      <th>7</th>\n",
       "      <td>10017</td>\n",
       "      <td>07-01-2022</td>\n",
       "      <td>airpod</td>\n",
       "      <td>EMEA</td>\n",
       "      <td>Online Store</td>\n",
       "      <td>199</td>\n",
       "      <td>39</td>\n",
       "    </tr>\n",
       "    <tr>\n",
       "      <th>8</th>\n",
       "      <td>10018</td>\n",
       "      <td>10-01-2022</td>\n",
       "      <td>iphone</td>\n",
       "      <td>North America</td>\n",
       "      <td>Online Store</td>\n",
       "      <td>1099</td>\n",
       "      <td>289</td>\n",
       "    </tr>\n",
       "    <tr>\n",
       "      <th>9</th>\n",
       "      <td>10019</td>\n",
       "      <td>13-01-2022</td>\n",
       "      <td>macbook</td>\n",
       "      <td>APAC</td>\n",
       "      <td>In-store</td>\n",
       "      <td>1,299</td>\n",
       "      <td>459</td>\n",
       "    </tr>\n",
       "    <tr>\n",
       "      <th>10</th>\n",
       "      <td>10020</td>\n",
       "      <td>16-01-2022</td>\n",
       "      <td>macbook</td>\n",
       "      <td>APAC</td>\n",
       "      <td>In-store</td>\n",
       "      <td>1,299</td>\n",
       "      <td>459</td>\n",
       "    </tr>\n",
       "    <tr>\n",
       "      <th>11</th>\n",
       "      <td>10021</td>\n",
       "      <td>19-01-2022</td>\n",
       "      <td>airpod</td>\n",
       "      <td>APAC</td>\n",
       "      <td>In-store</td>\n",
       "      <td>199</td>\n",
       "      <td>39</td>\n",
       "    </tr>\n",
       "    <tr>\n",
       "      <th>12</th>\n",
       "      <td>10022</td>\n",
       "      <td>22-01-2022</td>\n",
       "      <td>iphone</td>\n",
       "      <td>EMEA</td>\n",
       "      <td>In-store</td>\n",
       "      <td>1099</td>\n",
       "      <td>289</td>\n",
       "    </tr>\n",
       "    <tr>\n",
       "      <th>13</th>\n",
       "      <td>10023</td>\n",
       "      <td>25-01-2022</td>\n",
       "      <td>iwatch</td>\n",
       "      <td>North America</td>\n",
       "      <td>In-store</td>\n",
       "      <td>449</td>\n",
       "      <td>159</td>\n",
       "    </tr>\n",
       "    <tr>\n",
       "      <th>14</th>\n",
       "      <td>10024</td>\n",
       "      <td>04-02-2022</td>\n",
       "      <td>ipad</td>\n",
       "      <td>APAC</td>\n",
       "      <td>In-store</td>\n",
       "      <td>599</td>\n",
       "      <td>299</td>\n",
       "    </tr>\n",
       "    <tr>\n",
       "      <th>15</th>\n",
       "      <td>10025</td>\n",
       "      <td>05-02-2022</td>\n",
       "      <td>iwatch</td>\n",
       "      <td>APAC</td>\n",
       "      <td>Referral</td>\n",
       "      <td>449</td>\n",
       "      <td>159</td>\n",
       "    </tr>\n",
       "    <tr>\n",
       "      <th>16</th>\n",
       "      <td>10026</td>\n",
       "      <td>06-02-2022</td>\n",
       "      <td>iphone</td>\n",
       "      <td>APAC</td>\n",
       "      <td>Referral</td>\n",
       "      <td>1099</td>\n",
       "      <td>289</td>\n",
       "    </tr>\n",
       "    <tr>\n",
       "      <th>17</th>\n",
       "      <td>10027</td>\n",
       "      <td>07-02-2022</td>\n",
       "      <td>iwatch</td>\n",
       "      <td>EMEA</td>\n",
       "      <td>Third Party</td>\n",
       "      <td>449</td>\n",
       "      <td>159</td>\n",
       "    </tr>\n",
       "    <tr>\n",
       "      <th>18</th>\n",
       "      <td>10028</td>\n",
       "      <td>08-02-2022</td>\n",
       "      <td>iphone</td>\n",
       "      <td>APAC</td>\n",
       "      <td>Referral</td>\n",
       "      <td>1099</td>\n",
       "      <td>289</td>\n",
       "    </tr>\n",
       "    <tr>\n",
       "      <th>19</th>\n",
       "      <td>10029</td>\n",
       "      <td>08-02-2022</td>\n",
       "      <td>macbook</td>\n",
       "      <td>APAC</td>\n",
       "      <td>Referral</td>\n",
       "      <td>1,299</td>\n",
       "      <td>459</td>\n",
       "    </tr>\n",
       "    <tr>\n",
       "      <th>20</th>\n",
       "      <td>10030</td>\n",
       "      <td>08-02-2022</td>\n",
       "      <td>iphone</td>\n",
       "      <td>APAC</td>\n",
       "      <td>Online Store</td>\n",
       "      <td>1099</td>\n",
       "      <td>289</td>\n",
       "    </tr>\n",
       "  </tbody>\n",
       "</table>\n",
       "</div>"
      ],
      "text/plain": [
       "    ID Number        Date  Product         Region  Sales Method  \\\n",
       "0       10010  01-01-2022   iphone           EMEA      In-store   \n",
       "1       10011  01-01-2022   iphone  North America   Third Party   \n",
       "2       10012  01-01-2022  macbook           APAC  Online Store   \n",
       "3       10013  01-01-2022     ipad  South America      Referral   \n",
       "4       10014  01-01-2022   iwatch  South America  Online Store   \n",
       "5       10015  01-01-2022   airpod  South America  Online Store   \n",
       "6       10016  04-01-2022   airpod  South America      In-store   \n",
       "7       10017  07-01-2022   airpod           EMEA  Online Store   \n",
       "8       10018  10-01-2022   iphone  North America  Online Store   \n",
       "9       10019  13-01-2022  macbook           APAC      In-store   \n",
       "10      10020  16-01-2022  macbook           APAC      In-store   \n",
       "11      10021  19-01-2022   airpod           APAC      In-store   \n",
       "12      10022  22-01-2022   iphone           EMEA      In-store   \n",
       "13      10023  25-01-2022   iwatch  North America      In-store   \n",
       "14      10024  04-02-2022     ipad           APAC      In-store   \n",
       "15      10025  05-02-2022   iwatch           APAC      Referral   \n",
       "16      10026  06-02-2022   iphone           APAC      Referral   \n",
       "17      10027  07-02-2022   iwatch           EMEA   Third Party   \n",
       "18      10028  08-02-2022   iphone           APAC      Referral   \n",
       "19      10029  08-02-2022  macbook           APAC      Referral   \n",
       "20      10030  08-02-2022   iphone           APAC  Online Store   \n",
       "\n",
       "   Price per unit  Cost per unit  \n",
       "0           1,099            289  \n",
       "1           1,099            289  \n",
       "2           1,299            459  \n",
       "3             599            299  \n",
       "4             449            159  \n",
       "5             199             39  \n",
       "6             199             39  \n",
       "7             199             39  \n",
       "8            1099            289  \n",
       "9           1,299            459  \n",
       "10          1,299            459  \n",
       "11            199             39  \n",
       "12           1099            289  \n",
       "13            449            159  \n",
       "14            599            299  \n",
       "15            449            159  \n",
       "16           1099            289  \n",
       "17            449            159  \n",
       "18           1099            289  \n",
       "19          1,299            459  \n",
       "20           1099            289  "
      ]
     },
     "execution_count": 4,
     "metadata": {},
     "output_type": "execute_result"
    }
   ],
   "source": [
    "import pandas as pd\n",
    "pd.read_csv(\"DummyData.csv\")"
   ]
  },
  {
   "cell_type": "code",
   "execution_count": 5,
   "metadata": {},
   "outputs": [],
   "source": [
    "df_pyspark = spark.read.csv(\"DummyData.csv\")"
   ]
  },
  {
   "cell_type": "code",
   "execution_count": 6,
   "metadata": {},
   "outputs": [
    {
     "data": {
      "text/plain": [
       "DataFrame[_c0: string, _c1: string, _c2: string, _c3: string, _c4: string, _c5: string, _c6: string]"
      ]
     },
     "execution_count": 6,
     "metadata": {},
     "output_type": "execute_result"
    }
   ],
   "source": [
    "df_pyspark"
   ]
  },
  {
   "cell_type": "code",
   "execution_count": 7,
   "metadata": {},
   "outputs": [
    {
     "name": "stdout",
     "output_type": "stream",
     "text": [
      "+---------+----------+-------+-------------+------------+--------------+-------------+\n",
      "|      _c0|       _c1|    _c2|          _c3|         _c4|           _c5|          _c6|\n",
      "+---------+----------+-------+-------------+------------+--------------+-------------+\n",
      "|ID Number|      Date|Product|       Region|Sales Method|Price per unit|Cost per unit|\n",
      "|    10010|01-01-2022| iphone|         EMEA|    In-store|         1,099|          289|\n",
      "|    10011|01-01-2022| iphone|North America| Third Party|         1,099|          289|\n",
      "|    10012|01-01-2022|macbook|         APAC|Online Store|         1,299|          459|\n",
      "|    10013|01-01-2022|   ipad|South America|    Referral|           599|          299|\n",
      "|    10014|01-01-2022| iwatch|South America|Online Store|           449|          159|\n",
      "|    10015|01-01-2022| airpod|South America|Online Store|           199|           39|\n",
      "|    10016|04-01-2022| airpod|South America|    In-store|           199|           39|\n",
      "|    10017|07-01-2022| airpod|         EMEA|Online Store|           199|           39|\n",
      "|    10018|10-01-2022| iphone|North America|Online Store|          1099|          289|\n",
      "|    10019|13-01-2022|macbook|         APAC|    In-store|         1,299|          459|\n",
      "|    10020|16-01-2022|macbook|         APAC|    In-store|         1,299|          459|\n",
      "|    10021|19-01-2022| airpod|         APAC|    In-store|           199|           39|\n",
      "|    10022|22-01-2022| iphone|         EMEA|    In-store|          1099|          289|\n",
      "|    10023|25-01-2022| iwatch|North America|    In-store|           449|          159|\n",
      "|    10024|04-02-2022|   ipad|         APAC|    In-store|           599|          299|\n",
      "|    10025|05-02-2022| iwatch|         APAC|    Referral|           449|          159|\n",
      "|    10026|06-02-2022| iphone|         APAC|    Referral|          1099|          289|\n",
      "|    10027|07-02-2022| iwatch|         EMEA| Third Party|           449|          159|\n",
      "|    10028|08-02-2022| iphone|         APAC|    Referral|          1099|          289|\n",
      "+---------+----------+-------+-------------+------------+--------------+-------------+\n",
      "only showing top 20 rows\n",
      "\n"
     ]
    }
   ],
   "source": [
    "#if you want to see entire data set\n",
    "df_pyspark.show()"
   ]
  },
  {
   "cell_type": "code",
   "execution_count": 8,
   "metadata": {},
   "outputs": [
    {
     "data": {
      "text/plain": [
       "DataFrame[ID Number: string, Date: string, Product: string, Region: string, Sales Method: string, Price per unit: string, Cost per unit: string]"
      ]
     },
     "execution_count": 8,
     "metadata": {},
     "output_type": "execute_result"
    }
   ],
   "source": [
    "#want to change header\n",
    "df_pyspark = spark.read.option('header','true').csv(\"DummyData.csv\")\n",
    "df_pyspark"
   ]
  },
  {
   "cell_type": "code",
   "execution_count": 10,
   "metadata": {},
   "outputs": [
    {
     "name": "stdout",
     "output_type": "stream",
     "text": [
      "+---------+----------+-------+-------------+------------+--------------+-------------+\n",
      "|ID Number|      Date|Product|       Region|Sales Method|Price per unit|Cost per unit|\n",
      "+---------+----------+-------+-------------+------------+--------------+-------------+\n",
      "|    10010|01-01-2022| iphone|         EMEA|    In-store|         1,099|          289|\n",
      "|    10011|01-01-2022| iphone|North America| Third Party|         1,099|          289|\n",
      "|    10012|01-01-2022|macbook|         APAC|Online Store|         1,299|          459|\n",
      "|    10013|01-01-2022|   ipad|South America|    Referral|           599|          299|\n",
      "|    10014|01-01-2022| iwatch|South America|Online Store|           449|          159|\n",
      "|    10015|01-01-2022| airpod|South America|Online Store|           199|           39|\n",
      "|    10016|04-01-2022| airpod|South America|    In-store|           199|           39|\n",
      "|    10017|07-01-2022| airpod|         EMEA|Online Store|           199|           39|\n",
      "|    10018|10-01-2022| iphone|North America|Online Store|          1099|          289|\n",
      "|    10019|13-01-2022|macbook|         APAC|    In-store|         1,299|          459|\n",
      "|    10020|16-01-2022|macbook|         APAC|    In-store|         1,299|          459|\n",
      "|    10021|19-01-2022| airpod|         APAC|    In-store|           199|           39|\n",
      "|    10022|22-01-2022| iphone|         EMEA|    In-store|          1099|          289|\n",
      "|    10023|25-01-2022| iwatch|North America|    In-store|           449|          159|\n",
      "|    10024|04-02-2022|   ipad|         APAC|    In-store|           599|          299|\n",
      "|    10025|05-02-2022| iwatch|         APAC|    Referral|           449|          159|\n",
      "|    10026|06-02-2022| iphone|         APAC|    Referral|          1099|          289|\n",
      "|    10027|07-02-2022| iwatch|         EMEA| Third Party|           449|          159|\n",
      "|    10028|08-02-2022| iphone|         APAC|    Referral|          1099|          289|\n",
      "|    10029|08-02-2022|macbook|         APAC|    Referral|         1,299|          459|\n",
      "+---------+----------+-------+-------------+------------+--------------+-------------+\n",
      "only showing top 20 rows\n",
      "\n"
     ]
    }
   ],
   "source": [
    "df_pyspark.show()"
   ]
  },
  {
   "cell_type": "code",
   "execution_count": 11,
   "metadata": {},
   "outputs": [
    {
     "data": {
      "text/plain": [
       "pyspark.sql.dataframe.DataFrame"
      ]
     },
     "execution_count": 11,
     "metadata": {},
     "output_type": "execute_result"
    }
   ],
   "source": [
    "type(df_pyspark)"
   ]
  },
  {
   "cell_type": "code",
   "execution_count": 12,
   "metadata": {},
   "outputs": [
    {
     "data": {
      "text/plain": [
       "[Row(ID Number='10010', Date='01-01-2022', Product='iphone', Region='EMEA', Sales Method='In-store', Price per unit='1,099', Cost per unit='289'),\n",
       " Row(ID Number='10011', Date='01-01-2022', Product='iphone', Region='North America', Sales Method='Third Party', Price per unit='1,099', Cost per unit='289'),\n",
       " Row(ID Number='10012', Date='01-01-2022', Product='macbook', Region='APAC', Sales Method='Online Store', Price per unit='1,299', Cost per unit='459'),\n",
       " Row(ID Number='10013', Date='01-01-2022', Product='ipad', Region='South America', Sales Method='Referral', Price per unit='599', Cost per unit='299'),\n",
       " Row(ID Number='10014', Date='01-01-2022', Product='iwatch', Region='South America', Sales Method='Online Store', Price per unit='449', Cost per unit='159')]"
      ]
     },
     "execution_count": 12,
     "metadata": {},
     "output_type": "execute_result"
    }
   ],
   "source": [
    "df_pyspark.head(5)"
   ]
  },
  {
   "cell_type": "code",
   "execution_count": 13,
   "metadata": {},
   "outputs": [
    {
     "name": "stdout",
     "output_type": "stream",
     "text": [
      "root\n",
      " |-- ID Number: string (nullable = true)\n",
      " |-- Date: string (nullable = true)\n",
      " |-- Product: string (nullable = true)\n",
      " |-- Region: string (nullable = true)\n",
      " |-- Sales Method: string (nullable = true)\n",
      " |-- Price per unit: string (nullable = true)\n",
      " |-- Cost per unit: string (nullable = true)\n",
      "\n"
     ]
    }
   ],
   "source": [
    "# if we want to know more details\n",
    "df_pyspark.printSchema()"
   ]
  },
  {
   "cell_type": "code",
   "execution_count": null,
   "metadata": {},
   "outputs": [],
   "source": [
    "# pyspark DataFrame\n",
    "# Reading Dataset\n",
    "#Checking the datatypes of the column \n",
    "#selecting columns and indexing \n",
    "# check describe options similar to pandas\n",
    "# adding columns \n",
    "# dropping columns\n",
    "\n"
   ]
  },
  {
   "cell_type": "code",
   "execution_count": 22,
   "metadata": {},
   "outputs": [
    {
     "data": {
      "text/plain": [
       "DataFrame[ID Number: int, Date: string, Product: string, Region: string, Sales Method: string, Price per unit: string, Cost per unit: int]"
      ]
     },
     "execution_count": 22,
     "metadata": {},
     "output_type": "execute_result"
    }
   ],
   "source": [
    "# by default it is showing String as a type of every column\n",
    "# we need to give one option inferSchema = True\n",
    "df_pyspark = spark.read.option('header','true').csv(\"DummyData.csv\",inferSchema = True)\n",
    "df_pyspark"
   ]
  },
  {
   "cell_type": "code",
   "execution_count": 14,
   "metadata": {},
   "outputs": [
    {
     "name": "stdout",
     "output_type": "stream",
     "text": [
      "+---------+----------+-------+-------------+------------+--------------+-------------+\n",
      "|ID Number|      Date|Product|       Region|Sales Method|Price per unit|Cost per unit|\n",
      "+---------+----------+-------+-------------+------------+--------------+-------------+\n",
      "|    10010|01-01-2022| iphone|         EMEA|    In-store|         1,099|          289|\n",
      "|    10011|01-01-2022| iphone|North America| Third Party|         1,099|          289|\n",
      "|    10012|01-01-2022|macbook|         APAC|Online Store|         1,299|          459|\n",
      "|    10013|01-01-2022|   ipad|South America|    Referral|           599|          299|\n",
      "|    10014|01-01-2022| iwatch|South America|Online Store|           449|          159|\n",
      "|    10015|01-01-2022| airpod|South America|Online Store|           199|           39|\n",
      "|    10016|04-01-2022| airpod|South America|    In-store|           199|           39|\n",
      "|    10017|07-01-2022| airpod|         EMEA|Online Store|           199|           39|\n",
      "|    10018|10-01-2022| iphone|North America|Online Store|          1099|          289|\n",
      "|    10019|13-01-2022|macbook|         APAC|    In-store|         1,299|          459|\n",
      "|    10020|16-01-2022|macbook|         APAC|    In-store|         1,299|          459|\n",
      "|    10021|19-01-2022| airpod|         APAC|    In-store|           199|           39|\n",
      "|    10022|22-01-2022| iphone|         EMEA|    In-store|          1099|          289|\n",
      "|    10023|25-01-2022| iwatch|North America|    In-store|           449|          159|\n",
      "|    10024|04-02-2022|   ipad|         APAC|    In-store|           599|          299|\n",
      "|    10025|05-02-2022| iwatch|         APAC|    Referral|           449|          159|\n",
      "|    10026|06-02-2022| iphone|         APAC|    Referral|          1099|          289|\n",
      "|    10027|07-02-2022| iwatch|         EMEA| Third Party|           449|          159|\n",
      "|    10028|08-02-2022| iphone|         APAC|    Referral|          1099|          289|\n",
      "|    10029|08-02-2022|macbook|         APAC|    Referral|         1,299|          459|\n",
      "+---------+----------+-------+-------------+------------+--------------+-------------+\n",
      "only showing top 20 rows\n",
      "\n"
     ]
    }
   ],
   "source": [
    "df_pyspark = spark.read.csv(\"DummyData.csv\",header = True,inferSchema=True)\n",
    "df_pyspark.show()\n"
   ]
  },
  {
   "cell_type": "code",
   "execution_count": 15,
   "metadata": {},
   "outputs": [
    {
     "data": {
      "text/plain": [
       "['ID Number',\n",
       " 'Date',\n",
       " 'Product',\n",
       " 'Region',\n",
       " 'Sales Method',\n",
       " 'Price per unit',\n",
       " 'Cost per unit']"
      ]
     },
     "execution_count": 15,
     "metadata": {},
     "output_type": "execute_result"
    }
   ],
   "source": [
    "# get columns names\n",
    "\n",
    "df_pyspark.columns"
   ]
  },
  {
   "cell_type": "code",
   "execution_count": 16,
   "metadata": {},
   "outputs": [
    {
     "data": {
      "text/plain": [
       "[Row(ID Number=10010, Date='01-01-2022', Product='iphone', Region='EMEA', Sales Method='In-store', Price per unit='1,099', Cost per unit=289),\n",
       " Row(ID Number=10011, Date='01-01-2022', Product='iphone', Region='North America', Sales Method='Third Party', Price per unit='1,099', Cost per unit=289),\n",
       " Row(ID Number=10012, Date='01-01-2022', Product='macbook', Region='APAC', Sales Method='Online Store', Price per unit='1,299', Cost per unit=459),\n",
       " Row(ID Number=10013, Date='01-01-2022', Product='ipad', Region='South America', Sales Method='Referral', Price per unit='599', Cost per unit=299),\n",
       " Row(ID Number=10014, Date='01-01-2022', Product='iwatch', Region='South America', Sales Method='Online Store', Price per unit='449', Cost per unit=159)]"
      ]
     },
     "execution_count": 16,
     "metadata": {},
     "output_type": "execute_result"
    }
   ],
   "source": [
    "df_pyspark.head(5)"
   ]
  },
  {
   "cell_type": "code",
   "execution_count": 17,
   "metadata": {},
   "outputs": [
    {
     "data": {
      "text/plain": [
       "DataFrame[Product: string]"
      ]
     },
     "execution_count": 17,
     "metadata": {},
     "output_type": "execute_result"
    }
   ],
   "source": [
    "# if we want only single column\n",
    "df_pyspark.select(\"Product\")"
   ]
  },
  {
   "cell_type": "code",
   "execution_count": 18,
   "metadata": {},
   "outputs": [
    {
     "name": "stdout",
     "output_type": "stream",
     "text": [
      "+-------+\n",
      "|Product|\n",
      "+-------+\n",
      "| iphone|\n",
      "| iphone|\n",
      "|macbook|\n",
      "|   ipad|\n",
      "| iwatch|\n",
      "| airpod|\n",
      "| airpod|\n",
      "| airpod|\n",
      "| iphone|\n",
      "|macbook|\n",
      "|macbook|\n",
      "| airpod|\n",
      "| iphone|\n",
      "| iwatch|\n",
      "|   ipad|\n",
      "| iwatch|\n",
      "| iphone|\n",
      "| iwatch|\n",
      "| iphone|\n",
      "|macbook|\n",
      "+-------+\n",
      "only showing top 20 rows\n",
      "\n"
     ]
    }
   ],
   "source": [
    "df_pyspark.select(\"Product\").show()"
   ]
  },
  {
   "cell_type": "code",
   "execution_count": 19,
   "metadata": {},
   "outputs": [
    {
     "name": "stdout",
     "output_type": "stream",
     "text": [
      "+---------+-------+\n",
      "|ID NuMber|Product|\n",
      "+---------+-------+\n",
      "|    10010| iphone|\n",
      "|    10011| iphone|\n",
      "|    10012|macbook|\n",
      "|    10013|   ipad|\n",
      "|    10014| iwatch|\n",
      "|    10015| airpod|\n",
      "|    10016| airpod|\n",
      "|    10017| airpod|\n",
      "|    10018| iphone|\n",
      "|    10019|macbook|\n",
      "|    10020|macbook|\n",
      "|    10021| airpod|\n",
      "|    10022| iphone|\n",
      "|    10023| iwatch|\n",
      "|    10024|   ipad|\n",
      "|    10025| iwatch|\n",
      "|    10026| iphone|\n",
      "|    10027| iwatch|\n",
      "|    10028| iphone|\n",
      "|    10029|macbook|\n",
      "+---------+-------+\n",
      "only showing top 20 rows\n",
      "\n"
     ]
    }
   ],
   "source": [
    "#select multiple column \n",
    "df_pyspark.select([\"ID NuMber\",\"Product\"]).show()"
   ]
  },
  {
   "cell_type": "code",
   "execution_count": 20,
   "metadata": {},
   "outputs": [
    {
     "data": {
      "text/plain": [
       "Column<'Product'>"
      ]
     },
     "execution_count": 20,
     "metadata": {},
     "output_type": "execute_result"
    }
   ],
   "source": [
    "# know feature of column\n",
    "\n",
    "df_pyspark['Product']"
   ]
  },
  {
   "cell_type": "code",
   "execution_count": 21,
   "metadata": {},
   "outputs": [
    {
     "data": {
      "text/plain": [
       "[('ID Number', 'int'),\n",
       " ('Date', 'string'),\n",
       " ('Product', 'string'),\n",
       " ('Region', 'string'),\n",
       " ('Sales Method', 'string'),\n",
       " ('Price per unit', 'string'),\n",
       " ('Cost per unit', 'int')]"
      ]
     },
     "execution_count": 21,
     "metadata": {},
     "output_type": "execute_result"
    }
   ],
   "source": [
    "# know data types\n",
    "df_pyspark.dtypes"
   ]
  },
  {
   "cell_type": "code",
   "execution_count": 22,
   "metadata": {},
   "outputs": [
    {
     "data": {
      "text/plain": [
       "DataFrame[summary: string, ID Number: string, Date: string, Product: string, Region: string, Sales Method: string, Price per unit: string, Cost per unit: string]"
      ]
     },
     "execution_count": 22,
     "metadata": {},
     "output_type": "execute_result"
    }
   ],
   "source": [
    "df_pyspark.describe()"
   ]
  },
  {
   "cell_type": "code",
   "execution_count": null,
   "metadata": {},
   "outputs": [],
   "source": []
  },
  {
   "cell_type": "code",
   "execution_count": null,
   "metadata": {},
   "outputs": [],
   "source": []
  },
  {
   "cell_type": "code",
   "execution_count": null,
   "metadata": {},
   "outputs": [],
   "source": []
  },
  {
   "cell_type": "code",
   "execution_count": null,
   "metadata": {},
   "outputs": [],
   "source": []
  },
  {
   "cell_type": "markdown",
   "metadata": {},
   "source": []
  },
  {
   "cell_type": "code",
   "execution_count": null,
   "metadata": {},
   "outputs": [],
   "source": []
  },
  {
   "cell_type": "code",
   "execution_count": null,
   "metadata": {},
   "outputs": [],
   "source": []
  },
  {
   "cell_type": "code",
   "execution_count": null,
   "metadata": {},
   "outputs": [],
   "source": []
  },
  {
   "cell_type": "code",
   "execution_count": null,
   "metadata": {},
   "outputs": [],
   "source": []
  },
  {
   "cell_type": "code",
   "execution_count": null,
   "metadata": {},
   "outputs": [],
   "source": []
  },
  {
   "cell_type": "code",
   "execution_count": null,
   "metadata": {},
   "outputs": [],
   "source": []
  },
  {
   "cell_type": "code",
   "execution_count": null,
   "metadata": {},
   "outputs": [],
   "source": []
  },
  {
   "cell_type": "code",
   "execution_count": null,
   "metadata": {},
   "outputs": [],
   "source": [
    "\n"
   ]
  }
 ],
 "metadata": {
  "kernelspec": {
   "display_name": "Python 3 (ipykernel)",
   "language": "python",
   "name": "python3"
  },
  "language_info": {
   "codemirror_mode": {
    "name": "ipython",
    "version": 3
   },
   "file_extension": ".py",
   "mimetype": "text/x-python",
   "name": "python",
   "nbconvert_exporter": "python",
   "pygments_lexer": "ipython3",
   "version": "3.10.9"
  }
 },
 "nbformat": 4,
 "nbformat_minor": 2
}

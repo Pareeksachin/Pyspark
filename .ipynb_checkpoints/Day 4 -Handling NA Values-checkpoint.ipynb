{
 "cells": [
  {
   "cell_type": "code",
   "execution_count": 1,
   "id": "a047cbb2",
   "metadata": {},
   "outputs": [
    {
     "name": "stdout",
     "output_type": "stream",
     "text": [
      "+---------+----------+-------+-------------+------------+--------------+-------------+\n",
      "|ID Number|      Date|Product|       Region|Sales Method|Price per unit|Cost per unit|\n",
      "+---------+----------+-------+-------------+------------+--------------+-------------+\n",
      "|    10010|01-01-2022| iphone|         EMEA|    In-store|         1,099|          289|\n",
      "|    10011|01-01-2022| iphone|North America| Third Party|         1,099|          289|\n",
      "|    10012|01-01-2022|macbook|         APAC|Online Store|         1,299|          459|\n",
      "|    10013|01-01-2022|   ipad|South America|    Referral|           599|          299|\n",
      "|    10014|01-01-2022| iwatch|South America|Online Store|           449|          159|\n",
      "|    10015|01-01-2022| airpod|South America|Online Store|           199|         null|\n",
      "|    10016|04-01-2022| airpod|South America|    In-store|           199|           39|\n",
      "|    10017|07-01-2022| airpod|         EMEA|Online Store|           199|           39|\n",
      "|    10018|10-01-2022| iphone|North America|Online Store|          null|          289|\n",
      "|    10019|13-01-2022|macbook|         APAC|    In-store|         1,299|          459|\n",
      "|    10020|16-01-2022|macbook|         APAC|    In-store|         1,299|          459|\n",
      "|    10021|19-01-2022| airpod|         APAC|    In-store|           199|           39|\n",
      "|    10022|22-01-2022| iphone|         EMEA|    In-store|          null|          289|\n",
      "|    10023|25-01-2022| iwatch|North America|    In-store|           449|          159|\n",
      "|    10024|04-02-2022|   ipad|         APAC|    In-store|           599|          299|\n",
      "|    10025|05-02-2022| iwatch|         APAC|    Referral|           449|          159|\n",
      "|    10026|06-02-2022| iphone|         APAC|    Referral|          1099|         null|\n",
      "|    10027|07-02-2022| iwatch|         EMEA| Third Party|           449|          159|\n",
      "|    10028|08-02-2022| iphone|         APAC|    Referral|          1099|          289|\n",
      "|    10029|08-02-2022|macbook|         APAC|    Referral|          null|          459|\n",
      "+---------+----------+-------+-------------+------------+--------------+-------------+\n",
      "only showing top 20 rows\n",
      "\n"
     ]
    }
   ],
   "source": [
    "import pyspark\n",
    "from pyspark.sql import SparkSession\n",
    "spark = SparkSession.builder.appName('Practice').getOrCreate()\n",
    "spark\n",
    "import pandas as pd\n",
    "pd.read_csv(\"DummyData.csv\")\n",
    "df_pyspark = spark.read.csv(\"DummyData.csv\")\n",
    "df_pyspark1 = spark.read.csv(\"DummyData12.csv\",header=True,inferSchema = True)\n",
    "df_pyspark1.show()"
   ]
  },
  {
   "cell_type": "code",
   "execution_count": 2,
   "id": "d4926d29",
   "metadata": {},
   "outputs": [
    {
     "name": "stdout",
     "output_type": "stream",
     "text": [
      "+---------+----------+-------+-------------+------------+--------------+-------------+\n",
      "|ID Number|      Date|Product|       Region|Sales Method|Price per unit|Cost per unit|\n",
      "+---------+----------+-------+-------------+------------+--------------+-------------+\n",
      "|    10010|01-01-2022| iphone|         EMEA|    In-store|         1,099|          289|\n",
      "|    10011|01-01-2022| iphone|North America| Third Party|         1,099|          289|\n",
      "|    10012|01-01-2022|macbook|         APAC|Online Store|         1,299|          459|\n",
      "|    10013|01-01-2022|   ipad|South America|    Referral|           599|          299|\n",
      "|    10014|01-01-2022| iwatch|South America|Online Store|           449|          159|\n",
      "|    10016|04-01-2022| airpod|South America|    In-store|           199|           39|\n",
      "|    10017|07-01-2022| airpod|         EMEA|Online Store|           199|           39|\n",
      "|    10019|13-01-2022|macbook|         APAC|    In-store|         1,299|          459|\n",
      "|    10020|16-01-2022|macbook|         APAC|    In-store|         1,299|          459|\n",
      "|    10021|19-01-2022| airpod|         APAC|    In-store|           199|           39|\n",
      "|    10023|25-01-2022| iwatch|North America|    In-store|           449|          159|\n",
      "|    10024|04-02-2022|   ipad|         APAC|    In-store|           599|          299|\n",
      "|    10025|05-02-2022| iwatch|         APAC|    Referral|           449|          159|\n",
      "|    10027|07-02-2022| iwatch|         EMEA| Third Party|           449|          159|\n",
      "|    10028|08-02-2022| iphone|         APAC|    Referral|          1099|          289|\n",
      "|    10030|08-02-2022| iphone|         APAC|Online Store|          1099|          289|\n",
      "+---------+----------+-------+-------------+------------+--------------+-------------+\n",
      "\n"
     ]
    }
   ],
   "source": [
    "# drop row based on the row values \n",
    "df_pyspark1.na.drop().show()"
   ]
  },
  {
   "cell_type": "code",
   "execution_count": 3,
   "id": "3fa4c00e",
   "metadata": {},
   "outputs": [
    {
     "name": "stdout",
     "output_type": "stream",
     "text": [
      "+---------+----------+-------+-------------+------------+--------------+-------------+\n",
      "|ID Number|      Date|Product|       Region|Sales Method|Price per unit|Cost per unit|\n",
      "+---------+----------+-------+-------------+------------+--------------+-------------+\n",
      "|    10010|01-01-2022| iphone|         EMEA|    In-store|         1,099|          289|\n",
      "|    10011|01-01-2022| iphone|North America| Third Party|         1,099|          289|\n",
      "|    10012|01-01-2022|macbook|         APAC|Online Store|         1,299|          459|\n",
      "|    10013|01-01-2022|   ipad|South America|    Referral|           599|          299|\n",
      "|    10014|01-01-2022| iwatch|South America|Online Store|           449|          159|\n",
      "|    10015|01-01-2022| airpod|South America|Online Store|           199|         null|\n",
      "|    10016|04-01-2022| airpod|South America|    In-store|           199|           39|\n",
      "|    10017|07-01-2022| airpod|         EMEA|Online Store|           199|           39|\n",
      "|    10018|10-01-2022| iphone|North America|Online Store|          null|          289|\n",
      "|    10019|13-01-2022|macbook|         APAC|    In-store|         1,299|          459|\n",
      "|    10020|16-01-2022|macbook|         APAC|    In-store|         1,299|          459|\n",
      "|    10021|19-01-2022| airpod|         APAC|    In-store|           199|           39|\n",
      "|    10022|22-01-2022| iphone|         EMEA|    In-store|          null|          289|\n",
      "|    10023|25-01-2022| iwatch|North America|    In-store|           449|          159|\n",
      "|    10024|04-02-2022|   ipad|         APAC|    In-store|           599|          299|\n",
      "|    10025|05-02-2022| iwatch|         APAC|    Referral|           449|          159|\n",
      "|    10026|06-02-2022| iphone|         APAC|    Referral|          1099|         null|\n",
      "|    10027|07-02-2022| iwatch|         EMEA| Third Party|           449|          159|\n",
      "|    10028|08-02-2022| iphone|         APAC|    Referral|          1099|          289|\n",
      "|    10029|08-02-2022|macbook|         APAC|    Referral|          null|          459|\n",
      "+---------+----------+-------+-------------+------------+--------------+-------------+\n",
      "only showing top 20 rows\n",
      "\n",
      "+---------+----------+-------+-------------+------------+--------------+-------------+\n",
      "|ID Number|      Date|Product|       Region|Sales Method|Price per unit|Cost per unit|\n",
      "+---------+----------+-------+-------------+------------+--------------+-------------+\n",
      "|    10010|01-01-2022| iphone|         EMEA|    In-store|         1,099|          289|\n",
      "|    10011|01-01-2022| iphone|North America| Third Party|         1,099|          289|\n",
      "|    10012|01-01-2022|macbook|         APAC|Online Store|         1,299|          459|\n",
      "|    10013|01-01-2022|   ipad|South America|    Referral|           599|          299|\n",
      "|    10014|01-01-2022| iwatch|South America|Online Store|           449|          159|\n",
      "|    10016|04-01-2022| airpod|South America|    In-store|           199|           39|\n",
      "|    10017|07-01-2022| airpod|         EMEA|Online Store|           199|           39|\n",
      "|    10019|13-01-2022|macbook|         APAC|    In-store|         1,299|          459|\n",
      "|    10020|16-01-2022|macbook|         APAC|    In-store|         1,299|          459|\n",
      "|    10021|19-01-2022| airpod|         APAC|    In-store|           199|           39|\n",
      "|    10023|25-01-2022| iwatch|North America|    In-store|           449|          159|\n",
      "|    10024|04-02-2022|   ipad|         APAC|    In-store|           599|          299|\n",
      "|    10025|05-02-2022| iwatch|         APAC|    Referral|           449|          159|\n",
      "|    10027|07-02-2022| iwatch|         EMEA| Third Party|           449|          159|\n",
      "|    10028|08-02-2022| iphone|         APAC|    Referral|          1099|          289|\n",
      "|    10030|08-02-2022| iphone|         APAC|Online Store|          1099|          289|\n",
      "+---------+----------+-------+-------------+------------+--------------+-------------+\n",
      "\n"
     ]
    }
   ],
   "source": [
    "# drop(how = 'any',thresh = None, subset = None)\n",
    "# any = how \n",
    "# how can contain 'any' or 'all'\n",
    "# if 'any' drop a row if it contains any nulls\n",
    "# if 'all' drop a row only if all its values are null\n",
    "df_pyspark1.na.drop(how='all').show() #if all are null values \n",
    "df_pyspark1.na.drop(how = 'any').show()\n",
    "\n"
   ]
  },
  {
   "cell_type": "code",
   "execution_count": 4,
   "id": "493ea12c",
   "metadata": {},
   "outputs": [
    {
     "name": "stdout",
     "output_type": "stream",
     "text": [
      "+---------+----------+-------+-------------+------------+--------------+-------------+\n",
      "|ID Number|      Date|Product|       Region|Sales Method|Price per unit|Cost per unit|\n",
      "+---------+----------+-------+-------------+------------+--------------+-------------+\n",
      "|    10010|01-01-2022| iphone|         EMEA|    In-store|         1,099|          289|\n",
      "|    10011|01-01-2022| iphone|North America| Third Party|         1,099|          289|\n",
      "|    10012|01-01-2022|macbook|         APAC|Online Store|         1,299|          459|\n",
      "|    10013|01-01-2022|   ipad|South America|    Referral|           599|          299|\n",
      "|    10014|01-01-2022| iwatch|South America|Online Store|           449|          159|\n",
      "|    10015|01-01-2022| airpod|South America|Online Store|           199|         null|\n",
      "|    10016|04-01-2022| airpod|South America|    In-store|           199|           39|\n",
      "|    10017|07-01-2022| airpod|         EMEA|Online Store|           199|           39|\n",
      "|    10018|10-01-2022| iphone|North America|Online Store|          null|          289|\n",
      "|    10019|13-01-2022|macbook|         APAC|    In-store|         1,299|          459|\n",
      "|    10020|16-01-2022|macbook|         APAC|    In-store|         1,299|          459|\n",
      "|    10021|19-01-2022| airpod|         APAC|    In-store|           199|           39|\n",
      "|    10022|22-01-2022| iphone|         EMEA|    In-store|          null|          289|\n",
      "|    10023|25-01-2022| iwatch|North America|    In-store|           449|          159|\n",
      "|    10024|04-02-2022|   ipad|         APAC|    In-store|           599|          299|\n",
      "|    10025|05-02-2022| iwatch|         APAC|    Referral|           449|          159|\n",
      "|    10026|06-02-2022| iphone|         APAC|    Referral|          1099|         null|\n",
      "|    10027|07-02-2022| iwatch|         EMEA| Third Party|           449|          159|\n",
      "|    10028|08-02-2022| iphone|         APAC|    Referral|          1099|          289|\n",
      "|    10029|08-02-2022|macbook|         APAC|    Referral|          null|          459|\n",
      "+---------+----------+-------+-------------+------------+--------------+-------------+\n",
      "only showing top 20 rows\n",
      "\n"
     ]
    }
   ],
   "source": [
    "#thresh hold\n",
    "#thresh = 2 # atleast 2 non null value should be present \n",
    "\n",
    "df_pyspark1.na.drop(how = 'any',thresh = 2).show()"
   ]
  }
 ],
 "metadata": {
  "kernelspec": {
   "display_name": "Python 3 (ipykernel)",
   "language": "python",
   "name": "python3"
  },
  "language_info": {
   "codemirror_mode": {
    "name": "ipython",
    "version": 3
   },
   "file_extension": ".py",
   "mimetype": "text/x-python",
   "name": "python",
   "nbconvert_exporter": "python",
   "pygments_lexer": "ipython3",
   "version": "3.11.3"
  }
 },
 "nbformat": 4,
 "nbformat_minor": 5
}
